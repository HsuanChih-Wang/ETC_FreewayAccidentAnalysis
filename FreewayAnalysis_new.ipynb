{
 "cells": [
  {
   "cell_type": "code",
   "execution_count": 1,
   "metadata": {},
   "outputs": [],
   "source": [
    "import os\n",
    "import CSVParser\n",
    "from datetime import datetime, timedelta"
   ]
  },
  {
   "cell_type": "code",
   "execution_count": 2,
   "metadata": {},
   "outputs": [],
   "source": [
    "Freeway_info={'國道1號': ['北向', '南向'],\n",
    "              '國道1號高架': ['北向', '南向'],\n",
    "              '國道2號': ['西向', '東向'],\n",
    "              '國道3號': ['北向', '南向'],\n",
    "              '國道3甲號': ['西向', '東向'],\n",
    "              '國道5號': ['北向', '南向']}\n",
    "\n",
    "freewayMaxMiles = {'國道1號': 100, '國道2號': 0, '國道3號': 110, '國道3甲號': 0, '國道5號': 0}\n",
    "\n",
    "freewayCSVContentDict = {'國道1號北': 0, '國道1號南': 0, '國道3號北': 0, '國道3號南': 0}"
   ]
  },
  {
   "cell_type": "code",
   "execution_count": 3,
   "metadata": {
    "scrolled": true
   },
   "outputs": [
    {
     "name": "stdout",
     "output_type": "stream",
     "text": [
      "save success!\n"
     ]
    }
   ],
   "source": [
    "year = '2020'\n",
    "freeway = '國道1號'\n",
    "direction = '北'\n",
    "\n",
    "route = os.path.join('data', year, 'newCombinedCSV') #read: after combined CSV\n",
    "csvParser = CSVParser.CSVParser(fileRoute=route, fileName=freeway + '_' + direction + '_new.csv')\n",
    "csvParser.readCSVfile() #establish parser object and read csv file\n",
    "freewayCSVContentDict[freeway+direction] = csvParser.getCSVfileContent()  # get the content of the csv\n",
    "print(\"save success!\")"
   ]
  },
  {
   "cell_type": "code",
   "execution_count": 6,
   "metadata": {},
   "outputs": [],
   "source": [
    "class Crash_Data_Parser(CSVParser.CSVParser):\n",
    "    def __init__(self, fileRoute, fileName):\n",
    "        super().__init__(fileRoute, fileName)\n",
    "\n",
    "    def find_paired_crash_data(self):\n",
    "        return 0"
   ]
  },
  {
   "cell_type": "code",
   "execution_count": 23,
   "metadata": {
    "scrolled": true
   },
   "outputs": [
    {
     "name": "stdout",
     "output_type": "stream",
     "text": [
      "2020/01/01 0:0\n"
     ]
    }
   ],
   "source": [
    "item = freewayCSVContentDict[freeway+direction][0]\n",
    "date = item['year'] + '/' + item['date'] + \" \" + item['starttime']\n",
    "print(date)"
   ]
  },
  {
   "cell_type": "code",
   "execution_count": 1,
   "metadata": {},
   "outputs": [
    {
     "ename": "NameError",
     "evalue": "name 'datetime' is not defined",
     "output_type": "error",
     "traceback": [
      "\u001b[1;31m---------------------------------------------------------------------------\u001b[0m",
      "\u001b[1;31mNameError\u001b[0m                                 Traceback (most recent call last)",
      "\u001b[1;32m<ipython-input-1-55d99589d8c0>\u001b[0m in \u001b[0;36m<module>\u001b[1;34m\u001b[0m\n\u001b[1;32m----> 1\u001b[1;33m \u001b[0mdatetime\u001b[0m\u001b[1;33m.\u001b[0m\u001b[0mstrptime\u001b[0m\u001b[1;33m(\u001b[0m\u001b[0mdate\u001b[0m\u001b[1;33m,\u001b[0m \u001b[1;34m'%Y/%m/%d %H:%M'\u001b[0m\u001b[1;33m)\u001b[0m\u001b[1;33m\u001b[0m\u001b[1;33m\u001b[0m\u001b[0m\n\u001b[0m",
      "\u001b[1;31mNameError\u001b[0m: name 'datetime' is not defined"
     ]
    }
   ],
   "source": [
    "datetime.strptime(date, '%Y/%m/%d %H:%M')"
   ]
  },
  {
   "cell_type": "code",
   "execution_count": null,
   "metadata": {},
   "outputs": [
    {
     "name": "stdout",
     "output_type": "stream",
     "text": [
      "find data!\n",
      "{'startkilo': '86', 'endkilo': '88.0', 'year': '2020', 'date': '01/01', 'starttime': '8:20', 'endtime': '8:25', 'crash': '0', 'lane': '3', 'minlane': '0', 'addlane': '0', 'totalwidth': '15.2', 'lanewidth': '10.8', 'inshoulder': '0.6', 'outshoulder': '0.0', 'upslope': '0.0', 'downslope': '2.01', 'upslopelength': '0', 'downslopelength': '848', 'maxupslope': '0.0', 'maxdownslope': '2.01', 'curvelength': '1505', 'minradiuslength': '1505', 'minradius': '2019', 'continuouscurve': '0', 'pavement': '瀝青', 'cement': '0', 'interchange': '0', 'tunnellength': '0', 'tunnelin': '0', 'tunnelout': '0', 'remark': '', 'one': '1', 'shouderoallow': '0', 'speedlimit': '100', 'camera': '0', 'service': '1', 'windspeed': '0', 'rain': '0', 'Var_windspeed': '0', 'Var_rain': '0', 'volume_S': '0', 'volume_L': '0', 'volume_T': '0', 'volume': '0', 'PCU': '0', 'Speed_volume': '0', 'Speed_PCU': '0', 'heavy_rate': '0', 'Var_volume': '0', 'Var_PCU': '0', 'Var_Speed_volume': '0', 'Var_Speed_PCU': '0'}\n",
      "find data!\n",
      "{'startkilo': '54', 'endkilo': '56.0', 'year': '2020', 'date': '01/01', 'starttime': '12:10', 'endtime': '12:15', 'crash': '0', 'lane': '3', 'minlane': '0', 'addlane': '0', 'totalwidth': '13.9', 'lanewidth': '10.7', 'inshoulder': '0.4', 'outshoulder': '0.2', 'upslope': '0.0', 'downslope': '0.0', 'upslopelength': '0', 'downslopelength': '0', 'maxupslope': '0.0', 'maxdownslope': '0.0', 'curvelength': '555', 'minradiuslength': '555', 'minradius': '7408', 'continuouscurve': '0', 'pavement': '瀝青', 'cement': '0', 'interchange': '1', 'tunnellength': '0', 'tunnelin': '0', 'tunnelout': '0', 'remark': '', 'one': '1', 'shouderoallow': '0', 'speedlimit': '100', 'camera': '0', 'service': '1', 'windspeed': '0', 'rain': '0', 'Var_windspeed': '0', 'Var_rain': '0', 'volume_S': '0', 'volume_L': '0', 'volume_T': '0', 'volume': '0', 'PCU': '0', 'Speed_volume': '0', 'Speed_PCU': '0', 'heavy_rate': '0', 'Var_volume': '0', 'Var_PCU': '0', 'Var_Speed_volume': '0', 'Var_Speed_PCU': '0'}\n",
      "find data!\n",
      "{'startkilo': '36', 'endkilo': '38.0', 'year': '2020', 'date': '01/01', 'starttime': '5:10', 'endtime': '5:15', 'crash': '0', 'lane': '4', 'minlane': '1', 'addlane': '1', 'totalwidth': '14.5', 'lanewidth': '10.4', 'inshoulder': '0.5', 'outshoulder': '0.9', 'upslope': '2.0', 'downslope': '0.0', 'upslopelength': '2000', 'downslopelength': '0', 'maxupslope': '2.0', 'maxdownslope': '0.0', 'curvelength': '135', 'minradiuslength': '135', 'minradius': '1193', 'continuouscurve': '0', 'pavement': '瀝青', 'cement': '0', 'interchange': '0', 'tunnellength': '0', 'tunnelin': '0', 'tunnelout': '0', 'remark': '', 'one': '1', 'shouderoallow': '0', 'speedlimit': '100', 'camera': '1', 'service': '0', 'windspeed': '0', 'rain': '0', 'Var_windspeed': '0', 'Var_rain': '0', 'volume_S': '0', 'volume_L': '0', 'volume_T': '0', 'volume': '0', 'PCU': '0', 'Speed_volume': '0', 'Speed_PCU': '0', 'heavy_rate': '0', 'Var_volume': '0', 'Var_PCU': '0', 'Var_Speed_volume': '0', 'Var_Speed_PCU': '0'}\n",
      "find data!\n",
      "{'startkilo': '94', 'endkilo': '96.0', 'year': '2020', 'date': '01/02', 'starttime': '19:45', 'endtime': '19:50', 'crash': '0', 'lane': '3', 'minlane': '0', 'addlane': '0', 'totalwidth': '11.6', 'lanewidth': '11.1', 'inshoulder': '0.3', 'outshoulder': '0.0', 'upslope': '2.0', 'downslope': '0.0', 'upslopelength': '2000', 'downslopelength': '0', 'maxupslope': '2.0', 'maxdownslope': '0.0', 'curvelength': '1589', 'minradiuslength': '812', 'minradius': '2654', 'continuouscurve': '1', 'pavement': '瀝青', 'cement': '0', 'interchange': '1', 'tunnellength': '0', 'tunnelin': '0', 'tunnelout': '0', 'remark': '左彎/右彎', 'one': '1', 'shouderoallow': '0', 'speedlimit': '100', 'camera': '0', 'service': '0', 'windspeed': '0', 'rain': '0', 'Var_windspeed': '0', 'Var_rain': '0', 'volume_S': '0', 'volume_L': '0', 'volume_T': '0', 'volume': '0', 'PCU': '0', 'Speed_volume': '0', 'Speed_PCU': '0', 'heavy_rate': '0', 'Var_volume': '0', 'Var_PCU': '0', 'Var_Speed_volume': '0', 'Var_Speed_PCU': '0'}\n",
      "find data!\n",
      "{'startkilo': '88', 'endkilo': '90.0', 'year': '2020', 'date': '01/02', 'starttime': '10:20', 'endtime': '10:25', 'crash': '0', 'lane': '3', 'minlane': '0', 'addlane': '0', 'totalwidth': '15.2', 'lanewidth': '11.1', 'inshoulder': '0.7', 'outshoulder': '3.3', 'upslope': '0.0', 'downslope': '0.0', 'upslopelength': '0', 'downslopelength': '0', 'maxupslope': '0.0', 'maxdownslope': '0.0', 'curvelength': '1933', 'minradiuslength': '1933', 'minradius': '2117', 'continuouscurve': '0', 'pavement': '瀝青', 'cement': '0', 'interchange': '0', 'tunnellength': '0', 'tunnelin': '0', 'tunnelout': '0', 'remark': '', 'one': '1', 'shouderoallow': '0', 'speedlimit': '100', 'camera': '0', 'service': '0', 'windspeed': '0', 'rain': '0', 'Var_windspeed': '0', 'Var_rain': '0', 'volume_S': '0', 'volume_L': '0', 'volume_T': '0', 'volume': '0', 'PCU': '0', 'Speed_volume': '0', 'Speed_PCU': '0', 'heavy_rate': '0', 'Var_volume': '0', 'Var_PCU': '0', 'Var_Speed_volume': '0', 'Var_Speed_PCU': '0'}\n",
      "find data!\n",
      "{'startkilo': '60', 'endkilo': '62.0', 'year': '2020', 'date': '01/02', 'starttime': '8:40', 'endtime': '8:45', 'crash': '0', 'lane': '3', 'minlane': '0', 'addlane': '0', 'totalwidth': '12.1', 'lanewidth': '11.1', 'inshoulder': '0.8', 'outshoulder': '0.0', 'upslope': '0.0', 'downslope': '0.0', 'upslopelength': '0', 'downslopelength': '0', 'maxupslope': '0.0', 'maxdownslope': '0.0', 'curvelength': '1266', 'minradiuslength': '296', 'minradius': '2639', 'continuouscurve': '1', 'pavement': '瀝青', 'cement': '0', 'interchange': '1', 'tunnellength': '0', 'tunnelin': '0', 'tunnelout': '0', 'remark': '左彎/右彎', 'one': '1', 'shouderoallow': '0', 'speedlimit': '100', 'camera': '0', 'service': '0', 'windspeed': '0', 'rain': '0', 'Var_windspeed': '0', 'Var_rain': '0', 'volume_S': '0', 'volume_L': '0', 'volume_T': '0', 'volume': '0', 'PCU': '0', 'Speed_volume': '0', 'Speed_PCU': '0', 'heavy_rate': '0', 'Var_volume': '0', 'Var_PCU': '0', 'Var_Speed_volume': '0', 'Var_Speed_PCU': '0'}\n",
      "find data!\n",
      "{'startkilo': '40', 'endkilo': '42.0', 'year': '2020', 'date': '01/02', 'starttime': '16:50', 'endtime': '16:55', 'crash': '0', 'lane': '4', 'minlane': '1', 'addlane': '0', 'totalwidth': '15.8', 'lanewidth': '15.0', 'inshoulder': '0.5', 'outshoulder': '0.0', 'upslope': '2.0', 'downslope': '0.0', 'upslopelength': '816', 'downslopelength': '0', 'maxupslope': '2.0', 'maxdownslope': '0.0', 'curvelength': '538', 'minradiuslength': '321', 'minradius': '980', 'continuouscurve': '1', 'pavement': '瀝青', 'cement': '0', 'interchange': '1', 'tunnellength': '0', 'tunnelin': '0', 'tunnelout': '0', 'remark': '左彎/右彎', 'one': '1', 'shouderoallow': '0', 'speedlimit': '100', 'camera': '0', 'service': '0', 'windspeed': '0', 'rain': '0', 'Var_windspeed': '0', 'Var_rain': '0', 'volume_S': '0', 'volume_L': '0', 'volume_T': '0', 'volume': '0', 'PCU': '0', 'Speed_volume': '0', 'Speed_PCU': '0', 'heavy_rate': '0', 'Var_volume': '0', 'Var_PCU': '0', 'Var_Speed_volume': '0', 'Var_Speed_PCU': '0'}\n",
      "find data!\n",
      "{'startkilo': '40', 'endkilo': '42.0', 'year': '2020', 'date': '01/02', 'starttime': '17:5', 'endtime': '17:10', 'crash': '0', 'lane': '4', 'minlane': '1', 'addlane': '0', 'totalwidth': '15.8', 'lanewidth': '15.0', 'inshoulder': '0.5', 'outshoulder': '0.0', 'upslope': '2.0', 'downslope': '0.0', 'upslopelength': '816', 'downslopelength': '0', 'maxupslope': '2.0', 'maxdownslope': '0.0', 'curvelength': '538', 'minradiuslength': '321', 'minradius': '980', 'continuouscurve': '1', 'pavement': '瀝青', 'cement': '0', 'interchange': '1', 'tunnellength': '0', 'tunnelin': '0', 'tunnelout': '0', 'remark': '左彎/右彎', 'one': '1', 'shouderoallow': '0', 'speedlimit': '100', 'camera': '0', 'service': '0', 'windspeed': '0', 'rain': '0', 'Var_windspeed': '0', 'Var_rain': '0', 'volume_S': '0', 'volume_L': '0', 'volume_T': '0', 'volume': '0', 'PCU': '0', 'Speed_volume': '0', 'Speed_PCU': '0', 'heavy_rate': '0', 'Var_volume': '0', 'Var_PCU': '0', 'Var_Speed_volume': '0', 'Var_Speed_PCU': '0'}\n",
      "find data!\n",
      "{'startkilo': '40', 'endkilo': '42.0', 'year': '2020', 'date': '01/02', 'starttime': '8:40', 'endtime': '8:45', 'crash': '0', 'lane': '4', 'minlane': '1', 'addlane': '0', 'totalwidth': '15.8', 'lanewidth': '15.0', 'inshoulder': '0.5', 'outshoulder': '0.0', 'upslope': '2.0', 'downslope': '0.0', 'upslopelength': '816', 'downslopelength': '0', 'maxupslope': '2.0', 'maxdownslope': '0.0', 'curvelength': '538', 'minradiuslength': '321', 'minradius': '980', 'continuouscurve': '1', 'pavement': '瀝青', 'cement': '0', 'interchange': '1', 'tunnellength': '0', 'tunnelin': '0', 'tunnelout': '0', 'remark': '左彎/右彎', 'one': '1', 'shouderoallow': '0', 'speedlimit': '100', 'camera': '0', 'service': '0', 'windspeed': '0', 'rain': '0', 'Var_windspeed': '0', 'Var_rain': '0', 'volume_S': '0', 'volume_L': '0', 'volume_T': '0', 'volume': '0', 'PCU': '0', 'Speed_volume': '0', 'Speed_PCU': '0', 'heavy_rate': '0', 'Var_volume': '0', 'Var_PCU': '0', 'Var_Speed_volume': '0', 'Var_Speed_PCU': '0'}\n",
      "find data!\n",
      "{'startkilo': '32', 'endkilo': '34.0', 'year': '2020', 'date': '01/02', 'starttime': '14:20', 'endtime': '14:25', 'crash': '0', 'lane': '3', 'minlane': '0', 'addlane': '1', 'totalwidth': '14.4', 'lanewidth': '10.6', 'inshoulder': '0.1', 'outshoulder': '0.2', 'upslope': '2.0', 'downslope': '0.0', 'upslopelength': '377', 'downslopelength': '0', 'maxupslope': '2.0', 'maxdownslope': '0.0', 'curvelength': '1087', 'minradiuslength': '42', 'minradius': '3484', 'continuouscurve': '1', 'pavement': '瀝青', 'cement': '0', 'interchange': '1', 'tunnellength': '0', 'tunnelin': '0', 'tunnelout': '0', 'remark': '左彎/右彎', 'one': '1', 'shouderoallow': '0', 'speedlimit': '100', 'camera': '1', 'service': '0', 'windspeed': '0', 'rain': '0', 'Var_windspeed': '0', 'Var_rain': '0', 'volume_S': '0', 'volume_L': '0', 'volume_T': '0', 'volume': '0', 'PCU': '0', 'Speed_volume': '0', 'Speed_PCU': '0', 'heavy_rate': '0', 'Var_volume': '0', 'Var_PCU': '0', 'Var_Speed_volume': '0', 'Var_Speed_PCU': '0'}\n",
      "find data!\n"
     ]
    },
    {
     "name": "stdout",
     "output_type": "stream",
     "text": [
      "{'startkilo': '30', 'endkilo': '32.0', 'year': '2020', 'date': '01/02', 'starttime': '10:0', 'endtime': '10:5', 'crash': '0', 'lane': '4', 'minlane': '1', 'addlane': '0', 'totalwidth': '15.2', 'lanewidth': '11.2', 'inshoulder': '1.9', 'outshoulder': '1.7', 'upslope': '0.0', 'downslope': '0.0', 'upslopelength': '0', 'downslopelength': '0', 'maxupslope': '0.0', 'maxdownslope': '0.0', 'curvelength': '0', 'minradiuslength': '0', 'minradius': '0', 'continuouscurve': '0', 'pavement': '瀝青', 'cement': '0', 'interchange': '1', 'tunnellength': '0', 'tunnelin': '0', 'tunnelout': '0', 'remark': '', 'one': '1', 'shouderoallow': '0', 'speedlimit': '100', 'camera': '0', 'service': '0', 'windspeed': '0', 'rain': '0', 'Var_windspeed': '0', 'Var_rain': '0', 'volume_S': '0', 'volume_L': '0', 'volume_T': '0', 'volume': '0', 'PCU': '0', 'Speed_volume': '0', 'Speed_PCU': '0', 'heavy_rate': '0', 'Var_volume': '0', 'Var_PCU': '0', 'Var_Speed_volume': '0', 'Var_Speed_PCU': '0'}\n",
      "find data!\n",
      "{'startkilo': '32', 'endkilo': '34.0', 'year': '2020', 'date': '01/02', 'starttime': '13:20', 'endtime': '13:25', 'crash': '0', 'lane': '3', 'minlane': '0', 'addlane': '1', 'totalwidth': '14.4', 'lanewidth': '10.6', 'inshoulder': '0.1', 'outshoulder': '0.2', 'upslope': '2.0', 'downslope': '0.0', 'upslopelength': '377', 'downslopelength': '0', 'maxupslope': '2.0', 'maxdownslope': '0.0', 'curvelength': '1087', 'minradiuslength': '42', 'minradius': '3484', 'continuouscurve': '1', 'pavement': '瀝青', 'cement': '0', 'interchange': '1', 'tunnellength': '0', 'tunnelin': '0', 'tunnelout': '0', 'remark': '左彎/右彎', 'one': '1', 'shouderoallow': '0', 'speedlimit': '100', 'camera': '1', 'service': '0', 'windspeed': '0', 'rain': '0', 'Var_windspeed': '0', 'Var_rain': '0', 'volume_S': '0', 'volume_L': '0', 'volume_T': '0', 'volume': '0', 'PCU': '0', 'Speed_volume': '0', 'Speed_PCU': '0', 'heavy_rate': '0', 'Var_volume': '0', 'Var_PCU': '0', 'Var_Speed_volume': '0', 'Var_Speed_PCU': '0'}\n",
      "find data!\n",
      "{'startkilo': '32', 'endkilo': '34.0', 'year': '2020', 'date': '01/02', 'starttime': '14:15', 'endtime': '14:20', 'crash': '0', 'lane': '3', 'minlane': '0', 'addlane': '1', 'totalwidth': '14.4', 'lanewidth': '10.6', 'inshoulder': '0.1', 'outshoulder': '0.2', 'upslope': '2.0', 'downslope': '0.0', 'upslopelength': '377', 'downslopelength': '0', 'maxupslope': '2.0', 'maxdownslope': '0.0', 'curvelength': '1087', 'minradiuslength': '42', 'minradius': '3484', 'continuouscurve': '1', 'pavement': '瀝青', 'cement': '0', 'interchange': '1', 'tunnellength': '0', 'tunnelin': '0', 'tunnelout': '0', 'remark': '左彎/右彎', 'one': '1', 'shouderoallow': '0', 'speedlimit': '100', 'camera': '1', 'service': '0', 'windspeed': '0', 'rain': '0', 'Var_windspeed': '0', 'Var_rain': '0', 'volume_S': '0', 'volume_L': '0', 'volume_T': '0', 'volume': '0', 'PCU': '0', 'Speed_volume': '0', 'Speed_PCU': '0', 'heavy_rate': '0', 'Var_volume': '0', 'Var_PCU': '0', 'Var_Speed_volume': '0', 'Var_Speed_PCU': '0'}\n",
      "find data!\n",
      "{'startkilo': '32', 'endkilo': '34.0', 'year': '2020', 'date': '01/02', 'starttime': '17:20', 'endtime': '17:25', 'crash': '0', 'lane': '3', 'minlane': '0', 'addlane': '1', 'totalwidth': '14.4', 'lanewidth': '10.6', 'inshoulder': '0.1', 'outshoulder': '0.2', 'upslope': '2.0', 'downslope': '0.0', 'upslopelength': '377', 'downslopelength': '0', 'maxupslope': '2.0', 'maxdownslope': '0.0', 'curvelength': '1087', 'minradiuslength': '42', 'minradius': '3484', 'continuouscurve': '1', 'pavement': '瀝青', 'cement': '0', 'interchange': '1', 'tunnellength': '0', 'tunnelin': '0', 'tunnelout': '0', 'remark': '左彎/右彎', 'one': '1', 'shouderoallow': '0', 'speedlimit': '100', 'camera': '1', 'service': '0', 'windspeed': '0', 'rain': '0', 'Var_windspeed': '0', 'Var_rain': '0', 'volume_S': '0', 'volume_L': '0', 'volume_T': '0', 'volume': '0', 'PCU': '0', 'Speed_volume': '0', 'Speed_PCU': '0', 'heavy_rate': '0', 'Var_volume': '0', 'Var_PCU': '0', 'Var_Speed_volume': '0', 'Var_Speed_PCU': '0'}\n",
      "find data!\n",
      "{'startkilo': '22', 'endkilo': '24.0', 'year': '2020', 'date': '01/02', 'starttime': '8:0', 'endtime': '8:5', 'crash': '0', 'lane': '2', 'minlane': '0', 'addlane': '0', 'totalwidth': '10.1', 'lanewidth': '7.4', 'inshoulder': '0.8', 'outshoulder': '0.4', 'upslope': '2.0', 'downslope': '0.0', 'upslopelength': '56', 'downslopelength': '0', 'maxupslope': '2.0', 'maxdownslope': '0.0', 'curvelength': '1122', 'minradiuslength': '404', 'minradius': '767', 'continuouscurve': '1', 'pavement': '瀝青', 'cement': '0', 'interchange': '1', 'tunnellength': '0', 'tunnelin': '0', 'tunnelout': '0', 'remark': '右彎/左彎', 'one': '1', 'shouderoallow': '0', 'speedlimit': '100', 'camera': '0', 'service': '0', 'windspeed': '0', 'rain': '0', 'Var_windspeed': '0', 'Var_rain': '0', 'volume_S': '0', 'volume_L': '0', 'volume_T': '0', 'volume': '0', 'PCU': '0', 'Speed_volume': '0', 'Speed_PCU': '0', 'heavy_rate': '0', 'Var_volume': '0', 'Var_PCU': '0', 'Var_Speed_volume': '0', 'Var_Speed_PCU': '0'}\n",
      "find data!\n",
      "{'startkilo': '22', 'endkilo': '24.0', 'year': '2020', 'date': '01/02', 'starttime': '16:0', 'endtime': '16:5', 'crash': '0', 'lane': '2', 'minlane': '0', 'addlane': '0', 'totalwidth': '10.1', 'lanewidth': '7.4', 'inshoulder': '0.8', 'outshoulder': '0.4', 'upslope': '2.0', 'downslope': '0.0', 'upslopelength': '56', 'downslopelength': '0', 'maxupslope': '2.0', 'maxdownslope': '0.0', 'curvelength': '1122', 'minradiuslength': '404', 'minradius': '767', 'continuouscurve': '1', 'pavement': '瀝青', 'cement': '0', 'interchange': '1', 'tunnellength': '0', 'tunnelin': '0', 'tunnelout': '0', 'remark': '右彎/左彎', 'one': '1', 'shouderoallow': '0', 'speedlimit': '100', 'camera': '0', 'service': '0', 'windspeed': '0', 'rain': '0', 'Var_windspeed': '0', 'Var_rain': '0', 'volume_S': '0', 'volume_L': '0', 'volume_T': '0', 'volume': '0', 'PCU': '0', 'Speed_volume': '0', 'Speed_PCU': '0', 'heavy_rate': '0', 'Var_volume': '0', 'Var_PCU': '0', 'Var_Speed_volume': '0', 'Var_Speed_PCU': '0'}\n",
      "find data!\n",
      "{'startkilo': '16', 'endkilo': '18.0', 'year': '2020', 'date': '01/02', 'starttime': '8:0', 'endtime': '8:5', 'crash': '0', 'lane': '2', 'minlane': '0', 'addlane': '0', 'totalwidth': '8.5', 'lanewidth': '7.4', 'inshoulder': '0.8', 'outshoulder': '0.0', 'upslope': '2.02', 'downslope': '0.0', 'upslopelength': '102', 'downslopelength': '0', 'maxupslope': '2.02', 'maxdownslope': '0.0', 'curvelength': '1249', 'minradiuslength': '1249', 'minradius': '2182', 'continuouscurve': '0', 'pavement': '瀝青', 'cement': '0', 'interchange': '1', 'tunnellength': '0', 'tunnelin': '0', 'tunnelout': '0', 'remark': '', 'one': '1', 'shouderoallow': '0', 'speedlimit': '100', 'camera': '0', 'service': '0', 'windspeed': '0', 'rain': '0', 'Var_windspeed': '0', 'Var_rain': '0', 'volume_S': '0', 'volume_L': '0', 'volume_T': '0', 'volume': '0', 'PCU': '0', 'Speed_volume': '0', 'Speed_PCU': '0', 'heavy_rate': '0', 'Var_volume': '0', 'Var_PCU': '0', 'Var_Speed_volume': '0', 'Var_Speed_PCU': '0'}\n",
      "find data!\n",
      "{'startkilo': '94', 'endkilo': '96.0', 'year': '2020', 'date': '01/03', 'starttime': '17:50', 'endtime': '17:55', 'crash': '0', 'lane': '3', 'minlane': '0', 'addlane': '0', 'totalwidth': '11.6', 'lanewidth': '11.1', 'inshoulder': '0.3', 'outshoulder': '0.0', 'upslope': '2.0', 'downslope': '0.0', 'upslopelength': '2000', 'downslopelength': '0', 'maxupslope': '2.0', 'maxdownslope': '0.0', 'curvelength': '1589', 'minradiuslength': '812', 'minradius': '2654', 'continuouscurve': '1', 'pavement': '瀝青', 'cement': '0', 'interchange': '1', 'tunnellength': '0', 'tunnelin': '0', 'tunnelout': '0', 'remark': '左彎/右彎', 'one': '1', 'shouderoallow': '0', 'speedlimit': '100', 'camera': '0', 'service': '0', 'windspeed': '0', 'rain': '0', 'Var_windspeed': '0', 'Var_rain': '0', 'volume_S': '0', 'volume_L': '0', 'volume_T': '0', 'volume': '0', 'PCU': '0', 'Speed_volume': '0', 'Speed_PCU': '0', 'heavy_rate': '0', 'Var_volume': '0', 'Var_PCU': '0', 'Var_Speed_volume': '0', 'Var_Speed_PCU': '0'}\n",
      "find data!\n",
      "{'startkilo': '94', 'endkilo': '96.0', 'year': '2020', 'date': '01/03', 'starttime': '18:35', 'endtime': '18:40', 'crash': '0', 'lane': '3', 'minlane': '0', 'addlane': '0', 'totalwidth': '11.6', 'lanewidth': '11.1', 'inshoulder': '0.3', 'outshoulder': '0.0', 'upslope': '2.0', 'downslope': '0.0', 'upslopelength': '2000', 'downslopelength': '0', 'maxupslope': '2.0', 'maxdownslope': '0.0', 'curvelength': '1589', 'minradiuslength': '812', 'minradius': '2654', 'continuouscurve': '1', 'pavement': '瀝青', 'cement': '0', 'interchange': '1', 'tunnellength': '0', 'tunnelin': '0', 'tunnelout': '0', 'remark': '左彎/右彎', 'one': '1', 'shouderoallow': '0', 'speedlimit': '100', 'camera': '0', 'service': '0', 'windspeed': '0', 'rain': '0', 'Var_windspeed': '0', 'Var_rain': '0', 'volume_S': '0', 'volume_L': '0', 'volume_T': '0', 'volume': '0', 'PCU': '0', 'Speed_volume': '0', 'Speed_PCU': '0', 'heavy_rate': '0', 'Var_volume': '0', 'Var_PCU': '0', 'Var_Speed_volume': '0', 'Var_Speed_PCU': '0'}\n",
      "find data!\n"
     ]
    },
    {
     "name": "stdout",
     "output_type": "stream",
     "text": [
      "{'startkilo': '82', 'endkilo': '84.0', 'year': '2020', 'date': '01/03', 'starttime': '7:35', 'endtime': '7:40', 'crash': '0', 'lane': '3', 'minlane': '0', 'addlane': '0', 'totalwidth': '12.0', 'lanewidth': '11.3', 'inshoulder': '0.7', 'outshoulder': '0.0', 'upslope': '0.0', 'downslope': '0.0', 'upslopelength': '0', 'downslopelength': '0', 'maxupslope': '0.0', 'maxdownslope': '0.0', 'curvelength': '1386', 'minradiuslength': '1386', 'minradius': '2019', 'continuouscurve': '0', 'pavement': '瀝青', 'cement': '0', 'interchange': '1', 'tunnellength': '0', 'tunnelin': '0', 'tunnelout': '0', 'remark': '', 'one': '1', 'shouderoallow': '0', 'speedlimit': '100', 'camera': '1', 'service': '0', 'windspeed': '0', 'rain': '0', 'Var_windspeed': '0', 'Var_rain': '0', 'volume_S': '0', 'volume_L': '0', 'volume_T': '0', 'volume': '0', 'PCU': '0', 'Speed_volume': '0', 'Speed_PCU': '0', 'heavy_rate': '0', 'Var_volume': '0', 'Var_PCU': '0', 'Var_Speed_volume': '0', 'Var_Speed_PCU': '0'}\n",
      "find data!\n",
      "{'startkilo': '62', 'endkilo': '64.0', 'year': '2020', 'date': '01/03', 'starttime': '16:20', 'endtime': '16:25', 'crash': '0', 'lane': '3', 'minlane': '0', 'addlane': '0', 'totalwidth': '12.1', 'lanewidth': '11.2', 'inshoulder': '0.8', 'outshoulder': '0.0', 'upslope': '0.0', 'downslope': '0.0', 'upslopelength': '0', 'downslopelength': '0', 'maxupslope': '0.0', 'maxdownslope': '0.0', 'curvelength': '1491', 'minradiuslength': '1491', 'minradius': '2639', 'continuouscurve': '0', 'pavement': '瀝青', 'cement': '0', 'interchange': '0', 'tunnellength': '0', 'tunnelin': '0', 'tunnelout': '0', 'remark': '', 'one': '1', 'shouderoallow': '0', 'speedlimit': '100', 'camera': '1', 'service': '0', 'windspeed': '0', 'rain': '0', 'Var_windspeed': '0', 'Var_rain': '0', 'volume_S': '0', 'volume_L': '0', 'volume_T': '0', 'volume': '0', 'PCU': '0', 'Speed_volume': '0', 'Speed_PCU': '0', 'heavy_rate': '0', 'Var_volume': '0', 'Var_PCU': '0', 'Var_Speed_volume': '0', 'Var_Speed_PCU': '0'}\n",
      "find data!\n",
      "{'startkilo': '62', 'endkilo': '64.0', 'year': '2020', 'date': '01/03', 'starttime': '18:10', 'endtime': '18:15', 'crash': '0', 'lane': '3', 'minlane': '0', 'addlane': '0', 'totalwidth': '12.1', 'lanewidth': '11.2', 'inshoulder': '0.8', 'outshoulder': '0.0', 'upslope': '0.0', 'downslope': '0.0', 'upslopelength': '0', 'downslopelength': '0', 'maxupslope': '0.0', 'maxdownslope': '0.0', 'curvelength': '1491', 'minradiuslength': '1491', 'minradius': '2639', 'continuouscurve': '0', 'pavement': '瀝青', 'cement': '0', 'interchange': '0', 'tunnellength': '0', 'tunnelin': '0', 'tunnelout': '0', 'remark': '', 'one': '1', 'shouderoallow': '0', 'speedlimit': '100', 'camera': '1', 'service': '0', 'windspeed': '0', 'rain': '0', 'Var_windspeed': '0', 'Var_rain': '0', 'volume_S': '0', 'volume_L': '0', 'volume_T': '0', 'volume': '0', 'PCU': '0', 'Speed_volume': '0', 'Speed_PCU': '0', 'heavy_rate': '0', 'Var_volume': '0', 'Var_PCU': '0', 'Var_Speed_volume': '0', 'Var_Speed_PCU': '0'}\n",
      "find data!\n",
      "{'startkilo': '58', 'endkilo': '60.0', 'year': '2020', 'date': '01/03', 'starttime': '16:55', 'endtime': '17:0', 'crash': '0', 'lane': '3', 'minlane': '0', 'addlane': '0', 'totalwidth': '13.5', 'lanewidth': '11.1', 'inshoulder': '2.2', 'outshoulder': '0.0', 'upslope': '0.0', 'downslope': '0.0', 'upslopelength': '0', 'downslopelength': '0', 'maxupslope': '0.0', 'maxdownslope': '0.0', 'curvelength': '2000', 'minradiuslength': '2000', 'minradius': '16634', 'continuouscurve': '0', 'pavement': '瀝青', 'cement': '0', 'interchange': '1', 'tunnellength': '0', 'tunnelin': '0', 'tunnelout': '0', 'remark': '', 'one': '1', 'shouderoallow': '0', 'speedlimit': '100', 'camera': '0', 'service': '0', 'windspeed': '0', 'rain': '0', 'Var_windspeed': '0', 'Var_rain': '0', 'volume_S': '0', 'volume_L': '0', 'volume_T': '0', 'volume': '0', 'PCU': '0', 'Speed_volume': '0', 'Speed_PCU': '0', 'heavy_rate': '0', 'Var_volume': '0', 'Var_PCU': '0', 'Var_Speed_volume': '0', 'Var_Speed_PCU': '0'}\n",
      "find data!\n",
      "{'startkilo': '60', 'endkilo': '62.0', 'year': '2020', 'date': '01/03', 'starttime': '18:15', 'endtime': '18:20', 'crash': '0', 'lane': '3', 'minlane': '0', 'addlane': '0', 'totalwidth': '12.1', 'lanewidth': '11.1', 'inshoulder': '0.8', 'outshoulder': '0.0', 'upslope': '0.0', 'downslope': '0.0', 'upslopelength': '0', 'downslopelength': '0', 'maxupslope': '0.0', 'maxdownslope': '0.0', 'curvelength': '1266', 'minradiuslength': '296', 'minradius': '2639', 'continuouscurve': '1', 'pavement': '瀝青', 'cement': '0', 'interchange': '1', 'tunnellength': '0', 'tunnelin': '0', 'tunnelout': '0', 'remark': '左彎/右彎', 'one': '1', 'shouderoallow': '0', 'speedlimit': '100', 'camera': '0', 'service': '0', 'windspeed': '0', 'rain': '0', 'Var_windspeed': '0', 'Var_rain': '0', 'volume_S': '0', 'volume_L': '0', 'volume_T': '0', 'volume': '0', 'PCU': '0', 'Speed_volume': '0', 'Speed_PCU': '0', 'heavy_rate': '0', 'Var_volume': '0', 'Var_PCU': '0', 'Var_Speed_volume': '0', 'Var_Speed_PCU': '0'}\n",
      "find data!\n",
      "{'startkilo': '58', 'endkilo': '60.0', 'year': '2020', 'date': '01/03', 'starttime': '17:50', 'endtime': '17:55', 'crash': '0', 'lane': '3', 'minlane': '0', 'addlane': '0', 'totalwidth': '13.5', 'lanewidth': '11.1', 'inshoulder': '2.2', 'outshoulder': '0.0', 'upslope': '0.0', 'downslope': '0.0', 'upslopelength': '0', 'downslopelength': '0', 'maxupslope': '0.0', 'maxdownslope': '0.0', 'curvelength': '2000', 'minradiuslength': '2000', 'minradius': '16634', 'continuouscurve': '0', 'pavement': '瀝青', 'cement': '0', 'interchange': '1', 'tunnellength': '0', 'tunnelin': '0', 'tunnelout': '0', 'remark': '', 'one': '1', 'shouderoallow': '0', 'speedlimit': '100', 'camera': '0', 'service': '0', 'windspeed': '0', 'rain': '0', 'Var_windspeed': '0', 'Var_rain': '0', 'volume_S': '0', 'volume_L': '0', 'volume_T': '0', 'volume': '0', 'PCU': '0', 'Speed_volume': '0', 'Speed_PCU': '0', 'heavy_rate': '0', 'Var_volume': '0', 'Var_PCU': '0', 'Var_Speed_volume': '0', 'Var_Speed_PCU': '0'}\n",
      "find data!\n",
      "{'startkilo': '54', 'endkilo': '56.0', 'year': '2020', 'date': '01/03', 'starttime': '8:20', 'endtime': '8:25', 'crash': '0', 'lane': '3', 'minlane': '0', 'addlane': '0', 'totalwidth': '13.9', 'lanewidth': '10.7', 'inshoulder': '0.4', 'outshoulder': '0.2', 'upslope': '0.0', 'downslope': '0.0', 'upslopelength': '0', 'downslopelength': '0', 'maxupslope': '0.0', 'maxdownslope': '0.0', 'curvelength': '555', 'minradiuslength': '555', 'minradius': '7408', 'continuouscurve': '0', 'pavement': '瀝青', 'cement': '0', 'interchange': '1', 'tunnellength': '0', 'tunnelin': '0', 'tunnelout': '0', 'remark': '', 'one': '1', 'shouderoallow': '0', 'speedlimit': '100', 'camera': '0', 'service': '1', 'windspeed': '0', 'rain': '0', 'Var_windspeed': '0', 'Var_rain': '0', 'volume_S': '0', 'volume_L': '0', 'volume_T': '0', 'volume': '0', 'PCU': '0', 'Speed_volume': '0', 'Speed_PCU': '0', 'heavy_rate': '0', 'Var_volume': '0', 'Var_PCU': '0', 'Var_Speed_volume': '0', 'Var_Speed_PCU': '0'}\n",
      "find data!\n",
      "{'startkilo': '56', 'endkilo': '58.0', 'year': '2020', 'date': '01/03', 'starttime': '15:50', 'endtime': '15:55', 'crash': '0', 'lane': '3', 'minlane': '0', 'addlane': '0', 'totalwidth': '13.7', 'lanewidth': '11.0', 'inshoulder': '0.8', 'outshoulder': '0.0', 'upslope': '0.0', 'downslope': '0.0', 'upslopelength': '0', 'downslopelength': '0', 'maxupslope': '0.0', 'maxdownslope': '0.0', 'curvelength': '668', 'minradiuslength': '346', 'minradius': '7408', 'continuouscurve': '1', 'pavement': '瀝青', 'cement': '0', 'interchange': '1', 'tunnellength': '0', 'tunnelin': '0', 'tunnelout': '0', 'remark': '右彎/左彎', 'one': '1', 'shouderoallow': '0', 'speedlimit': '100', 'camera': '0', 'service': '0', 'windspeed': '0', 'rain': '0', 'Var_windspeed': '0', 'Var_rain': '0', 'volume_S': '0', 'volume_L': '0', 'volume_T': '0', 'volume': '0', 'PCU': '0', 'Speed_volume': '0', 'Speed_PCU': '0', 'heavy_rate': '0', 'Var_volume': '0', 'Var_PCU': '0', 'Var_Speed_volume': '0', 'Var_Speed_PCU': '0'}\n",
      "find data!\n",
      "{'startkilo': '56', 'endkilo': '58.0', 'year': '2020', 'date': '01/03', 'starttime': '16:0', 'endtime': '16:5', 'crash': '0', 'lane': '3', 'minlane': '0', 'addlane': '0', 'totalwidth': '13.7', 'lanewidth': '11.0', 'inshoulder': '0.8', 'outshoulder': '0.0', 'upslope': '0.0', 'downslope': '0.0', 'upslopelength': '0', 'downslopelength': '0', 'maxupslope': '0.0', 'maxdownslope': '0.0', 'curvelength': '668', 'minradiuslength': '346', 'minradius': '7408', 'continuouscurve': '1', 'pavement': '瀝青', 'cement': '0', 'interchange': '1', 'tunnellength': '0', 'tunnelin': '0', 'tunnelout': '0', 'remark': '右彎/左彎', 'one': '1', 'shouderoallow': '0', 'speedlimit': '100', 'camera': '0', 'service': '0', 'windspeed': '0', 'rain': '0', 'Var_windspeed': '0', 'Var_rain': '0', 'volume_S': '0', 'volume_L': '0', 'volume_T': '0', 'volume': '0', 'PCU': '0', 'Speed_volume': '0', 'Speed_PCU': '0', 'heavy_rate': '0', 'Var_volume': '0', 'Var_PCU': '0', 'Var_Speed_volume': '0', 'Var_Speed_PCU': '0'}\n",
      "find data!\n"
     ]
    },
    {
     "name": "stdout",
     "output_type": "stream",
     "text": [
      "{'startkilo': '52', 'endkilo': '54.0', 'year': '2020', 'date': '01/03', 'starttime': '8:5', 'endtime': '8:10', 'crash': '0', 'lane': '4', 'minlane': '0', 'addlane': '0', 'totalwidth': '14.8', 'lanewidth': '10.7', 'inshoulder': '0.4', 'outshoulder': '0.4', 'upslope': '0.0', 'downslope': '0.0', 'upslopelength': '0', 'downslopelength': '0', 'maxupslope': '0.0', 'maxdownslope': '0.0', 'curvelength': '0', 'minradiuslength': '0', 'minradius': '0', 'continuouscurve': '0', 'pavement': '瀝青', 'cement': '0', 'interchange': '1', 'tunnellength': '0', 'tunnelin': '0', 'tunnelout': '0', 'remark': '', 'one': '1', 'shouderoallow': '0', 'speedlimit': '100', 'camera': '0', 'service': '0', 'windspeed': '0', 'rain': '0', 'Var_windspeed': '0', 'Var_rain': '0', 'volume_S': '0', 'volume_L': '0', 'volume_T': '0', 'volume': '0', 'PCU': '0', 'Speed_volume': '0', 'Speed_PCU': '0', 'heavy_rate': '0', 'Var_volume': '0', 'Var_PCU': '0', 'Var_Speed_volume': '0', 'Var_Speed_PCU': '0'}\n",
      "find data!\n",
      "{'startkilo': '52', 'endkilo': '54.0', 'year': '2020', 'date': '01/03', 'starttime': '8:5', 'endtime': '8:10', 'crash': '0', 'lane': '4', 'minlane': '0', 'addlane': '0', 'totalwidth': '14.8', 'lanewidth': '10.7', 'inshoulder': '0.4', 'outshoulder': '0.4', 'upslope': '0.0', 'downslope': '0.0', 'upslopelength': '0', 'downslopelength': '0', 'maxupslope': '0.0', 'maxdownslope': '0.0', 'curvelength': '0', 'minradiuslength': '0', 'minradius': '0', 'continuouscurve': '0', 'pavement': '瀝青', 'cement': '0', 'interchange': '1', 'tunnellength': '0', 'tunnelin': '0', 'tunnelout': '0', 'remark': '', 'one': '1', 'shouderoallow': '0', 'speedlimit': '100', 'camera': '0', 'service': '0', 'windspeed': '0', 'rain': '0', 'Var_windspeed': '0', 'Var_rain': '0', 'volume_S': '0', 'volume_L': '0', 'volume_T': '0', 'volume': '0', 'PCU': '0', 'Speed_volume': '0', 'Speed_PCU': '0', 'heavy_rate': '0', 'Var_volume': '0', 'Var_PCU': '0', 'Var_Speed_volume': '0', 'Var_Speed_PCU': '0'}\n",
      "find data!\n"
     ]
    }
   ],
   "source": [
    "crashFileNames = ['(Use)國道105-109事故資料.csv']\n",
    "for fileName in crashFileNames:\n",
    "    crashFileParser = Crash_Data_Parser(fileRoute=os.path.join('data', '事故處理資料'), fileName=fileName)\n",
    "    crashFileParser.readCSVfile() # read csv file\n",
    "    csvFileContent = crashFileParser.getCSVfileContent() #get the content of the csv\n",
    "    for crashData in csvFileContent:  # iterate each crash record\n",
    "        crashDateAndTime = datetime.strptime(crashData['發生日期'] + ' ' + crashData['時'] + crashData['分'], '%m/%d/%Y %H%M')\n",
    "        freewayNumber = crashData['道路(判)']\n",
    "        direction = crashData['發生-路線-向車道(國道/省道/縣道/鄉道)']\n",
    "        crashMile = int(crashData['發生-路線-公里 (國道/省道/縣道/鄉道)'])\n",
    "\n",
    "        # def searchIndex(content: list, target: datetime):\n",
    "        #     return next((i for i, d in enumerate(content) if datetime.strptime(d['year'] + '/' + d['date'], '%Y/%m/%d') == target), None)\n",
    "\n",
    "        dataYear = 2020 #先處理2020年的事故資料\n",
    "\n",
    "        if crashDateAndTime.year == dataYear and freewayNumber == '國道1號' and direction == '北':\n",
    "\n",
    "            print(\"find data!\")\n",
    "\n",
    "            #index = searchIndex(content=content, target=crashDate) #look for the index of a specific date in the newCobinedcsv\n",
    "            ## Search for the value in combined csv file\n",
    "\n",
    "            result = next(item for item in freewayCSVContentDict[freeway+direction] if\n",
    "                          (datetime.strptime(item['year'] + '/' + item['date'] + \" \" + item['starttime'], '%Y/%m/%d %H:%M') >= crashDateAndTime and\n",
    "                           crashDateAndTime <= datetime.strptime(item['year'] + '/' + item['date'] + \" \" + item['endtime'], '%Y/%m/%d %H:%M')) and\n",
    "                          (crashMile in range(int(float(item['startkilo'])), int(float(item['endkilo']) + 1))))\n",
    "\n",
    "            print(result)"
   ]
  }
 ],
 "metadata": {
  "kernelspec": {
   "display_name": "Python 3",
   "language": "python",
   "name": "python3"
  },
  "language_info": {
   "codemirror_mode": {
    "name": "ipython",
    "version": 3
   },
   "file_extension": ".py",
   "mimetype": "text/x-python",
   "name": "python",
   "nbconvert_exporter": "python",
   "pygments_lexer": "ipython3",
   "version": "3.7.4"
  }
 },
 "nbformat": 4,
 "nbformat_minor": 2
}
